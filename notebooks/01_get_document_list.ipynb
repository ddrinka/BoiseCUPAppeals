{
 "cells": [
  {
   "cell_type": "code",
   "execution_count": null,
   "metadata": {},
   "outputs": [],
   "source": [
    "import json\n",
    "import requests as req\n",
    "from bs4 import BeautifulSoup"
   ]
  },
  {
   "cell_type": "code",
   "execution_count": null,
   "metadata": {},
   "outputs": [],
   "source": [
    "def get_attachment_list(records_url: str) -> str:\n",
    "    requests_session = req.Session()\n",
    "\n",
    "    # Making this initial request sets up the session cookies and sets server state to the provided record\n",
    "    response = requests_session.get(records_url)\n",
    "    response.raise_for_status()\n",
    "\n",
    "    # This request uses the server state from the session to retrieve the attachments list\n",
    "    attachments_list_url = 'https://permits.cityofboise.org/citizenaccess/FileUpload/AttachmentsList.aspx'\n",
    "    params = {\n",
    "        'iframeid': 'ctl00_PlaceHolderMain_attachmentEdit',\n",
    "        'module': 'Planning',\n",
    "        'isInConfirm': 'False',\n",
    "        'isdetail': 'True',\n",
    "        'isaccountmanager': 'False',\n",
    "        'isAdmin': 'False',\n",
    "        'isPeopleDocument': '',\n",
    "        'agencyCode': 'BOISE',\n",
    "        'isForConditionDocument': 'N'\n",
    "    }\n",
    "    response = requests_session.get(attachments_list_url, params=params)\n",
    "    response.raise_for_status()\n",
    "\n",
    "    return response.text"
   ]
  },
  {
   "cell_type": "code",
   "execution_count": 47,
   "metadata": {},
   "outputs": [],
   "source": [
    "def extract_attachments(attachment_html: str) -> list:\n",
    "    soup = BeautifulSoup(attachment_html, 'html.parser')\n",
    "    attachments = []\n",
    "\n",
    "    table = soup.find('table', id='attachmentList_gdvAttachmentList')\n",
    "    if table:\n",
    "        # Loop through each row in the table; skip rows without <td> (header rows)\n",
    "        for row in table.find_all('tr'):\n",
    "            cells = row.find_all('td')\n",
    "            if not cells:\n",
    "                continue  # Skip header rows\n",
    "\n",
    "            # First cell: Filename (and its associated postBack id)\n",
    "            filename_anchor = cells[0].find('a')\n",
    "            if filename_anchor:\n",
    "                postBack_id = filename_anchor.get('id', '')\n",
    "                span_name = filename_anchor.find('span')\n",
    "                filename = span_name.get_text(strip=True) if span_name else 'Unknown Filename'\n",
    "            else:\n",
    "                postBack_id = ''\n",
    "                filename = 'Unknown Filename'\n",
    "\n",
    "            # Second cell: Attachment type\n",
    "            type_span = cells[1].find('span') if len(cells) > 1 else None\n",
    "            attachment_type = type_span.get_text(strip=True) if type_span else 'Unknown Type'\n",
    "\n",
    "            # Fourth cell: Attachment date\n",
    "            date_span = cells[3].find('span') if len(cells) > 3 else None\n",
    "            attachment_date = date_span.get_text(strip=True) if date_span else 'Unknown Date'\n",
    "\n",
    "            attachments.append({\n",
    "                'filename': filename,\n",
    "                'postBackId': postBack_id,\n",
    "                'type': attachment_type,\n",
    "                'date': attachment_date\n",
    "            })\n",
    "\n",
    "    return attachments"
   ]
  },
  {
   "cell_type": "code",
   "execution_count": 50,
   "metadata": {},
   "outputs": [],
   "source": [
    "with open('../data/01/cup_records.json', 'r') as f:\n",
    "    records = json.load(f)"
   ]
  },
  {
   "cell_type": "code",
   "execution_count": null,
   "metadata": {},
   "outputs": [],
   "source": [
    "num_records = len(records)\n",
    "for idx, record in enumerate(records, start=1):\n",
    "    try:\n",
    "        attachment_list = get_attachment_list(record['link'])\n",
    "        attachments = extract_attachments(attachment_list)\n",
    "        record['attachments'] = attachments\n",
    "    except Exception as e:\n",
    "        print(f\"Error extracting attachments for record {record['link']}: {e}\")\n",
    "    # Print the record ID and number of attachments\n",
    "    print(f\"Record ({idx} / {num_records}) ID: {record['record']}  Num Attachments: {len(attachments)}\")"
   ]
  },
  {
   "cell_type": "code",
   "execution_count": 53,
   "metadata": {},
   "outputs": [],
   "source": [
    "with open('../data/01/cup_records_with_attachments.json', 'w') as f:\n",
    "    json.dump(records, f, indent=4)"
   ]
  }
 ],
 "metadata": {
  "kernelspec": {
   "display_name": "Python 3",
   "language": "python",
   "name": "python3"
  },
  "language_info": {
   "codemirror_mode": {
    "name": "ipython",
    "version": 3
   },
   "file_extension": ".py",
   "mimetype": "text/x-python",
   "name": "python",
   "nbconvert_exporter": "python",
   "pygments_lexer": "ipython3",
   "version": "3.12.6"
  }
 },
 "nbformat": 4,
 "nbformat_minor": 2
}
