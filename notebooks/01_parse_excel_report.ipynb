{
 "cells": [
  {
   "cell_type": "code",
   "execution_count": 32,
   "metadata": {},
   "outputs": [],
   "source": [
    "from typing import Any\n",
    "from datetime import datetime\n",
    "import json\n",
    "\n",
    "import openpyxl"
   ]
  },
  {
   "cell_type": "code",
   "execution_count": 27,
   "metadata": {},
   "outputs": [],
   "source": [
    "def parse_excel_report(file_path) -> list[Any]:\n",
    "    wb = openpyxl.load_workbook(file_path)\n",
    "    ws = wb.active\n",
    "    if not ws:\n",
    "        raise ValueError('No active worksheet found in the workbook.')\n",
    "\n",
    "    links = []\n",
    "    for row in ws.iter_rows():\n",
    "        result = None\n",
    "        for idx, cell in enumerate(row):\n",
    "            if idx == 2 and cell.value == 'Record No.:':\n",
    "                result = {}\n",
    "            if idx == 5 and result is not None:\n",
    "                result['record'] = cell.value\n",
    "                try:\n",
    "                    result['link'] = cell.hyperlink.target if cell.hyperlink else None\n",
    "                except AttributeError:\n",
    "                    pass\n",
    "            if idx == 10 and result is not None:\n",
    "                dt = cell.value\n",
    "                if isinstance(dt, datetime):\n",
    "                    result['received_date'] = dt.strftime('%Y-%m-%d')\n",
    "        \n",
    "        if result is not None:\n",
    "            links.append(result)\n",
    "    return links"
   ]
  },
  {
   "cell_type": "code",
   "execution_count": 28,
   "metadata": {},
   "outputs": [],
   "source": [
    "records = []\n",
    "for year in ['2021', '2022', '2023', '2024', '2025']:\n",
    "    records_this_year = parse_excel_report(f'../data/01/pds_{year}.xlsx')\n",
    "    records.extend(records_this_year)"
   ]
  },
  {
   "cell_type": "code",
   "execution_count": 30,
   "metadata": {},
   "outputs": [],
   "source": [
    "# Keep only records that begin with `CUP`\n",
    "cup_records = [record for record in records if record['record'].startswith('CUP')]"
   ]
  },
  {
   "cell_type": "code",
   "execution_count": null,
   "metadata": {},
   "outputs": [],
   "source": [
    "# Write cup_records to a json file\n",
    "with open('../data/01/cup_records.json', 'w') as f:\n",
    "    json.dump(cup_records, f, indent=4)"
   ]
  },
  {
   "cell_type": "code",
   "execution_count": 33,
   "metadata": {},
   "outputs": [
    {
     "data": {
      "text/plain": [
       "{'CAR', 'CUP', 'DRH'}"
      ]
     },
     "execution_count": 33,
     "metadata": {},
     "output_type": "execute_result"
    }
   ],
   "source": [
    "# What are all the various first 3-letter prefixes of the records?\n",
    "prefixes = set()\n",
    "for record in records:\n",
    "    prefix = record['record'][:3]\n",
    "    prefixes.add(prefix)\n",
    "prefixes"
   ]
  },
  {
   "cell_type": "markdown",
   "metadata": {},
   "source": [
    "Unfortunately, variances apparently weren't included in this report, so we'd have to use the search interface for those rather than parsing the Excel sheets."
   ]
  }
 ],
 "metadata": {
  "kernelspec": {
   "display_name": "Python 3",
   "language": "python",
   "name": "python3"
  },
  "language_info": {
   "codemirror_mode": {
    "name": "ipython",
    "version": 3
   },
   "file_extension": ".py",
   "mimetype": "text/x-python",
   "name": "python",
   "nbconvert_exporter": "python",
   "pygments_lexer": "ipython3",
   "version": "3.12.6"
  }
 },
 "nbformat": 4,
 "nbformat_minor": 2
}
