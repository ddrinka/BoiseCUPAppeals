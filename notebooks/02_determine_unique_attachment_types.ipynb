{
 "cells": [
  {
   "cell_type": "code",
   "execution_count": 1,
   "metadata": {},
   "outputs": [],
   "source": [
    "import json"
   ]
  },
  {
   "cell_type": "code",
   "execution_count": 2,
   "metadata": {},
   "outputs": [],
   "source": [
    "with open('../data/01/cup_records_with_attachments.json', 'r') as f:\n",
    "    records = json.load(f)"
   ]
  },
  {
   "cell_type": "code",
   "execution_count": 13,
   "metadata": {},
   "outputs": [
    {
     "data": {
      "text/plain": [
       "{'filename': 'PDS-Application',\n",
       " 'postBackId': 'attachmentList_gdvAttachmentList_ctl02_lnkFileName',\n",
       " 'type': 'PDS-Application',\n",
       " 'date': '01/25/2021'}"
      ]
     },
     "execution_count": 13,
     "metadata": {},
     "output_type": "execute_result"
    }
   ],
   "source": [
    "records[0]['attachments'][0]"
   ]
  },
  {
   "cell_type": "code",
   "execution_count": 7,
   "metadata": {},
   "outputs": [
    {
     "name": "stdout",
     "output_type": "stream",
     "text": [
      "Attachment types:\n",
      "PDS-Maps and Drawings: 1527\n",
      "PDS-Agency Comments: 763\n",
      "PDS-Other Small Docs: 354\n",
      "PDS-Action Letter: 257\n",
      "PDS-Legal Notice: 252\n",
      "PDS-Application: 243\n",
      "PDS-Correspondence: 242\n",
      "PDS-Project Report/Memo: 202\n",
      "PDS-Letter of Intent: 200\n",
      "PDS-Statement of Legal Interest: 197\n",
      "PDS-Photos: 181\n",
      "PDS-Neighborhood Meeting: 134\n",
      "PDS-PreApp Conference: 86\n",
      "PDS-Public Comment: 79\n",
      "PDS-Planning Other Small Documents: 73\n",
      "PDS-Submittal Checklist: 58\n",
      ": 51\n",
      "PDS-Minutes: 49\n",
      "PDS-Appeals: 48\n",
      "PDS-Parties of Record: 33\n",
      "PDS-Receipts: 26\n",
      "PDS-Transmittal Agencies: 15\n",
      "PDS-Concept Review Summary Report: 6\n",
      "PDS-Agreements: 2\n",
      "PDS-Interdepartmental Review Summary Report: 2\n",
      "Unknown Type: 1\n",
      "PDS-Deeds: 1\n",
      "PDS-Sensitive Documents: 1\n",
      "PDS-Development Agreements: 1\n"
     ]
    }
   ],
   "source": [
    "attachment_types = {}\n",
    "for record in records:\n",
    "    for attachment in record['attachments']:\n",
    "        if attachment['type'] not in attachment_types:\n",
    "            attachment_types[attachment['type']] = 1\n",
    "        else:\n",
    "            attachment_types[attachment['type']] += 1\n",
    "# Print the attachment types sorted by count, desc\n",
    "print('Attachment types:')\n",
    "for attachment_type in sorted(attachment_types.items(), key=lambda x: x[1], reverse=True):\n",
    "    print(f\"{attachment_type[0]}: {attachment_type[1]}\")"
   ]
  }
 ],
 "metadata": {
  "kernelspec": {
   "display_name": "Python 3",
   "language": "python",
   "name": "python3"
  },
  "language_info": {
   "codemirror_mode": {
    "name": "ipython",
    "version": 3
   },
   "file_extension": ".py",
   "mimetype": "text/x-python",
   "name": "python",
   "nbconvert_exporter": "python",
   "pygments_lexer": "ipython3",
   "version": "3.12.6"
  }
 },
 "nbformat": 4,
 "nbformat_minor": 2
}
