{
 "cells": [
  {
   "cell_type": "code",
   "execution_count": 1,
   "metadata": {},
   "outputs": [],
   "source": [
    "import json"
   ]
  },
  {
   "cell_type": "code",
   "execution_count": 2,
   "metadata": {},
   "outputs": [],
   "source": [
    "with open('../data/01/cup_records_with_attachments.json', 'r') as f:\n",
    "    records = json.load(f)"
   ]
  },
  {
   "cell_type": "code",
   "execution_count": 3,
   "metadata": {},
   "outputs": [
    {
     "data": {
      "text/plain": [
       "{'filename': 'PDS-Application',\n",
       " 'postBackId': 'attachmentList_gdvAttachmentList_ctl02_lnkFileName',\n",
       " 'type': 'PDS-Application',\n",
       " 'date': '01/25/2021'}"
      ]
     },
     "execution_count": 3,
     "metadata": {},
     "output_type": "execute_result"
    }
   ],
   "source": [
    "records[0]['attachments'][0]"
   ]
  },
  {
   "cell_type": "code",
   "execution_count": 4,
   "metadata": {},
   "outputs": [],
   "source": [
    "appealed_records = []\n",
    "for record in records:\n",
    "    for attachment in record['attachments']:\n",
    "        if attachment['type'] == 'PDS-Appeals':\n",
    "            appealed_records.append(record)\n",
    "            break"
   ]
  },
  {
   "cell_type": "code",
   "execution_count": 7,
   "metadata": {},
   "outputs": [
    {
     "name": "stdout",
     "output_type": "stream",
     "text": [
      "CUP21-00015\n",
      "CUP21-00026\n",
      "CUP21-00035\n",
      "CUP21-00059\n",
      "CUP22-00007\n",
      "CUP22-00068\n",
      "CUP23-00047\n",
      "CUP23-00057\n",
      "CUP23-00079\n",
      "CUP24-00011\n",
      "CUP24-00012\n",
      "CUP24-00028\n",
      "CUP24-00041\n"
     ]
    }
   ],
   "source": [
    "for record in appealed_records:\n",
    "    print(record['record'])"
   ]
  }
 ],
 "metadata": {
  "kernelspec": {
   "display_name": "Python 3",
   "language": "python",
   "name": "python3"
  },
  "language_info": {
   "codemirror_mode": {
    "name": "ipython",
    "version": 3
   },
   "file_extension": ".py",
   "mimetype": "text/x-python",
   "name": "python",
   "nbconvert_exporter": "python",
   "pygments_lexer": "ipython3",
   "version": "3.12.6"
  }
 },
 "nbformat": 4,
 "nbformat_minor": 2
}
